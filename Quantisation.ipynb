{
  "nbformat": 4,
  "nbformat_minor": 0,
  "metadata": {
    "colab": {
      "provenance": [],
      "gpuType": "T4"
    },
    "kernelspec": {
      "name": "python3",
      "display_name": "Python 3"
    },
    "language_info": {
      "name": "python"
    },
    "accelerator": "GPU"
  },
  "cells": [
    {
      "cell_type": "code",
      "source": [
        "!git lfs clone https://huggingface.co/OpenAssistant/falcon-7b-sft-mix-2000\n",
        "!pip install git+https://github.com/huggingface/transformers bitsandbytes accelerate torch einops"
      ],
      "metadata": {
        "id": "57LFAc76sPwX"
      },
      "execution_count": null,
      "outputs": []
    },
    {
      "cell_type": "code",
      "source": [
        "from transformers import AutoTokenizer, AutoModelForCausalLM, pipeline\n",
        "import torch"
      ],
      "metadata": {
        "id": "87liw9gxsMOq"
      },
      "execution_count": null,
      "outputs": []
    },
    {
      "cell_type": "code",
      "source": [
        "# model = \"/content/bloom-3b\"\n",
        "# model = \"WizardLM/WizardCoder-15B-V1.0\"\n",
        "model = \"/content/falcon-7b-sft-mix-2000\""
      ],
      "metadata": {
        "id": "neLTh4SavwNK"
      },
      "execution_count": null,
      "outputs": []
    },
    {
      "cell_type": "code",
      "execution_count": null,
      "metadata": {
        "id": "ASENjzB7qtnh"
      },
      "outputs": [],
      "source": [
        "tokenizer = AutoTokenizer.from_pretrained(model, local_files_only=True , trust_remote_code=True)\n",
        "# model = AutoModelForCausalLM.from_pretrained(model, load_in_8bit=False, load_in_4bit=True)\n",
        "\n",
        "# without quantization\n",
        "# model = AutoModelForCausalLM.from_pretrained(\n",
        "#     model,\n",
        "#     torch_dtype=torch.float16,\n",
        "#     device_map=\"auto\",\n",
        "#     local_files_only=True,\n",
        "#     trust_remote_code=True\n",
        "# )\n",
        "# Results of resource consumption -\n",
        "# SRAM - 3G, VRAM - 14.1G, inference VRAM required <1G\n",
        "\n",
        "\n",
        "# with 8bit quantization\n",
        "# model = AutoModelForCausalLM.from_pretrained(\n",
        "#     model,\n",
        "#     load_in_8bit=True,\n",
        "#     torch_dtype=torch.float16,\n",
        "#     device_map=\"auto\",\n",
        "#     trust_remote_code=True\n",
        "# )\n",
        "# Results of resource consumption -\n",
        "# SRAM - 4G, VRAM - 9G, inference VRAM required <1G\n",
        "\n",
        "# # with 4bit quantization\n",
        "model = AutoModelForCausalLM.from_pretrained(\n",
        "    model,\n",
        "    load_in_4bit=True,\n",
        "    torch_dtype=torch.float16,\n",
        "    device_map=\"auto\",\n",
        "    trust_remote_code=True\n",
        ")\n",
        "# # Results of resource consumption -\n",
        "# SRAM - 3.5G, VRAM - 6G, inference VRAM required <1G\n",
        "\n",
        "\n",
        "\n",
        "# 3B model - non quantized, 8bit quantized and 4bit quantised.\n",
        "# SRAM - 4G, VRAM - 11.4G, inference VRAM required <1G\n",
        "# SRAM - 3.5G, VRAM - 4.4G, inference VRAM required <1G\n",
        "# SRAM - 3.5G, VRAM - 3.4G, inference VRAM required <1G\n",
        "\n",
        "# 7B model - non quantized, 8bit quantized and 4bit quantised.\n",
        "# SRAM - 3G, VRAM - 14.1G, inference VRAM required <1G\n",
        "# SRAM - 4G, VRAM - 9G, inference VRAM required <1G\n",
        "# SRAM - 3.5G, VRAM - 6G, inference VRAM required <1G"
      ]
    },
    {
      "cell_type": "code",
      "source": [
        "pipeline = pipeline(\n",
        "    \"text-generation\",\n",
        "    model=model,\n",
        "    tokenizer=tokenizer,\n",
        "    eos_token_id=tokenizer.eos_token_id,\n",
        "    max_length=1000,\n",
        "    do_sample=True,\n",
        "    top_k=10,\n",
        "    num_return_sequences=1\n",
        ")\n",
        "\n",
        "prompt = \"<|prompter|>What's the Earth total population<|endoftext|><|assistant|>\"\n",
        "\n",
        "for a in pipeline(prompt):\n",
        "  print(a)"
      ],
      "metadata": {
        "id": "__QbcMsnxQWg"
      },
      "execution_count": null,
      "outputs": []
    },
    {
      "cell_type": "code",
      "source": [
        "prompt = \"<|prompter|>What's the Earth total population<|endoftext|><|assistant|>\"\n",
        "\n",
        "for a in pipeline(prompt):\n",
        "  print(a)"
      ],
      "metadata": {
        "id": "t5sEc9QA-s7n"
      },
      "execution_count": null,
      "outputs": []
    }
  ]
}